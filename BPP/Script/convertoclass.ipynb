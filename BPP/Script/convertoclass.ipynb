{
 "cells": [
  {
   "cell_type": "code",
   "execution_count": 1,
   "metadata": {},
   "outputs": [],
   "source": [
    "import pandas as pd\n",
    "import numpy as np\n"
   ]
  },
  {
   "cell_type": "code",
   "execution_count": 80,
   "metadata": {},
   "outputs": [
    {
     "name": "stdout",
     "output_type": "stream",
     "text": [
      "aadsc08745.JPG [0 0 0 0 0 0 0 0 0 0 0 0 0 0 0 0 0 1 0 0 0 0 0 0]\n"
     ]
    }
   ],
   "source": [
    "fname='aadsc08745.JPG'\n",
    "csv = pd.read_csv(r'/学生/陳/bolt/datalabel-class.csv', index_col=0)\n",
    "#file=np.array(file)\n",
    "for index,data in csv.iterrows():       #add label\n",
    "    if fname[-8:-4] == index[-8:-4]:\n",
    "        label= np.array(data)\n",
    "print(fname,label)"
   ]
  },
  {
   "cell_type": "code",
   "execution_count": 76,
   "metadata": {},
   "outputs": [
    {
     "name": "stdout",
     "output_type": "stream",
     "text": [
      "0\n"
     ]
    }
   ],
   "source": [
    "for index,row in csv.iterrows():\n",
    "    a=index\n",
    "    b=np.array(csv.loc[index])\n",
    "print(b[2])"
   ]
  },
  {
   "cell_type": "code",
   "execution_count": null,
   "metadata": {},
   "outputs": [],
   "source": []
  }
 ],
 "metadata": {
  "kernelspec": {
   "display_name": "Python 3.8.8 ('pytorch')",
   "language": "python",
   "name": "python3"
  },
  "language_info": {
   "codemirror_mode": {
    "name": "ipython",
    "version": 3
   },
   "file_extension": ".py",
   "mimetype": "text/x-python",
   "name": "python",
   "nbconvert_exporter": "python",
   "pygments_lexer": "ipython3",
   "version": "3.8.8"
  },
  "orig_nbformat": 4,
  "vscode": {
   "interpreter": {
    "hash": "d275927c00a0479f68d184c1249dfe922f7fe254dc78c71a5746e4d4edecd5dd"
   }
  }
 },
 "nbformat": 4,
 "nbformat_minor": 2
}
