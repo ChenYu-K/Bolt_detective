{
 "cells": [
  {
   "cell_type": "code",
   "execution_count": 35,
   "metadata": {},
   "outputs": [],
   "source": [
    "import pandas as pd\n",
    "import numpy as np\n",
    "import os\n",
    "import cv2\n",
    "import os, random, shutil\n",
    "\n",
    "def ccfolder(dir,csvname):\n",
    "\n",
    "    csv = pd.read_csv(r+csvname)\n",
    "    file=np.array(csv)\n",
    "    dir='./data/'\n",
    "\n",
    "    for file_name in os.listdir(dir):\n",
    "        for item in file:\n",
    "            sh = item[1]\n",
    "            label = item[0]       #add label\n",
    "            if file_name[-8:-4] == sh[-8:-4]:\n",
    "                if label < 5 and label > 0: shutil.move(dir+file_name, './data/0')\n",
    "                if label < 10 and label > 5: shutil.move(dir+file_name, './data/1')\n",
    "                if label < 15 and label > 10: shutil.move(dir+file_name, './data/2')\n",
    "                if label < 20 and label > 15: shutil.move(dir+file_name, './data/3')\n",
    "                if label < 25 and label > 20: shutil.move(dir+file_name, './data/4')\n",
    "                if label < 30 and label > 25: shutil.move(dir+file_name, './data/5')\n",
    "                if label < 35 and label > 30: shutil.move(dir+file_name, './data/6')\n",
    "                if label < 40 and label > 35: shutil.move(dir+file_name, './data/7')\n",
    "                if label < 45 and label > 40: shutil.move(dir+file_name, './data/8')\n",
    "                if label < 50 and label > 45: shutil.move(dir+file_name, './data/9')\n",
    "                if label < 55 and label > 50: shutil.move(dir+file_name, './data/10')\n",
    "                if label < 60 and label > 55: shutil.move(dir+file_name, './data/11')\n",
    "                if label < 65 and label > 60: shutil.move(dir+file_name, './data/12')\n",
    "                if label < 70 and label > 65: shutil.move(dir+file_name, './data/13')\n",
    "                if label < 75 and label > 70: shutil.move(dir+file_name, './data/14')\n",
    "                if label < 80 and label > 75: shutil.move(dir+file_name, './data/15')\n",
    "                if label < 85 and label > 80: shutil.move(dir+file_name, './data/16')\n",
    "                if label < 90 and label > 85: shutil.move(dir+file_name, './data/17')\n",
    "                if label < 95 and label > 90: shutil.move(dir+file_name, './data/18')\n",
    "                if label < 100 and label > 95: shutil.move(dir+file_name, './data/19')\n",
    "                if label < 105 and label > 100: shutil.move(dir+file_name, './data/20')\n",
    "                if label < 110 and label > 105: shutil.move(dir+file_name, './data/21')\n",
    "                if label < 115 and label > 110: shutil.move(dir+file_name, './data/22')\n",
    "                if label < 120 and label > 115: shutil.move(dir+file_name, './data/23')\n",
    "\n",
    "\n",
    "    #print(index[0])"
   ]
  },
  {
   "cell_type": "code",
   "execution_count": null,
   "metadata": {},
   "outputs": [],
   "source": [
    "\n",
    "if __name__ == '__main__':\n",
    "    dir='./data/'\n",
    "    r='./'\n",
    "    csvname='datalabel-new.csv'\n",
    "    ccfolder(dir,csvname)"
   ]
  },
  {
   "cell_type": "markdown",
   "metadata": {},
   "source": [
    "# Creat foltder"
   ]
  },
  {
   "cell_type": "code",
   "execution_count": 8,
   "metadata": {},
   "outputs": [],
   "source": [
    "import os, sys\n",
    "def MkDir():\n",
    "    path = './data/'#创建文件路径\n",
    "    i = 0\n",
    "    for i in range(24): #创建文件个数\n",
    "        file_name = path + str(i)\n",
    "        os.mkdir(file_name)\n",
    "        i=i+1\n",
    "#MkDir()"
   ]
  },
  {
   "cell_type": "code",
   "execution_count": 6,
   "metadata": {},
   "outputs": [
    {
     "name": "stdout",
     "output_type": "stream",
     "text": [
      "range(0, 24)\n"
     ]
    }
   ],
   "source": [
    "a=range(24)\n",
    "print(a)"
   ]
  }
 ],
 "metadata": {
  "kernelspec": {
   "display_name": "Python 3.10.4 ('pytorch-cy1')",
   "language": "python",
   "name": "python3"
  },
  "language_info": {
   "codemirror_mode": {
    "name": "ipython",
    "version": 3
   },
   "file_extension": ".py",
   "mimetype": "text/x-python",
   "name": "python",
   "nbconvert_exporter": "python",
   "pygments_lexer": "ipython3",
   "version": "3.10.4"
  },
  "orig_nbformat": 4,
  "vscode": {
   "interpreter": {
    "hash": "0ec9779f063a942372247cf944fedbbc91251caa904973c75af8af67dbd8132d"
   }
  }
 },
 "nbformat": 4,
 "nbformat_minor": 2
}
